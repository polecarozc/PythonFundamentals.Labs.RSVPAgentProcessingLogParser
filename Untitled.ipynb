{
 "cells": [
  {
   "cell_type": "code",
   "execution_count": 1,
   "id": "73118900-b773-4681-9b5f-b3bad7b2710c",
   "metadata": {
    "tags": []
   },
   "outputs": [],
   "source": [
    "import pandas as pd"
   ]
  },
  {
   "cell_type": "code",
   "execution_count": 24,
   "id": "0cdafbc8-b577-4646-aa69-3bf55df43e6e",
   "metadata": {
    "tags": []
   },
   "outputs": [],
   "source": [
    "df = pd.read_csv('data/rsvp_agent_log.dat', sep=';', engine='python')"
   ]
  },
  {
   "cell_type": "code",
   "execution_count": 25,
   "id": "34414536-f38c-4a73-be6a-504109e045ca",
   "metadata": {
    "tags": []
   },
   "outputs": [
    {
     "data": {
      "text/html": [
       "<div>\n",
       "<style scoped>\n",
       "    .dataframe tbody tr th:only-of-type {\n",
       "        vertical-align: middle;\n",
       "    }\n",
       "\n",
       "    .dataframe tbody tr th {\n",
       "        vertical-align: top;\n",
       "    }\n",
       "\n",
       "    .dataframe thead th {\n",
       "        text-align: right;\n",
       "    }\n",
       "</style>\n",
       "<table border=\"1\" class=\"dataframe\">\n",
       "  <thead>\n",
       "    <tr style=\"text-align: right;\">\n",
       "      <th></th>\n",
       "      <th>03/22 08:51:01 INFO   :.main: *************** RSVP Agent started ***************</th>\n",
       "    </tr>\n",
       "  </thead>\n",
       "  <tbody>\n",
       "    <tr>\n",
       "      <th>0</th>\n",
       "      <td>03/22 08:51:01 INFO   :...locate_configFile: S...</td>\n",
       "    </tr>\n",
       "    <tr>\n",
       "      <th>1</th>\n",
       "      <td>03/22 08:51:01 INFO   :.main: Using log level 511</td>\n",
       "    </tr>\n",
       "    <tr>\n",
       "      <th>2</th>\n",
       "      <td>03/22 08:51:01 INFO   :..settcpimage: Get TCP ...</td>\n",
       "    </tr>\n",
       "    <tr>\n",
       "      <th>3</th>\n",
       "      <td>03/22 08:51:01 INFO   :..settcpimage: Associat...</td>\n",
       "    </tr>\n",
       "    <tr>\n",
       "      <th>4</th>\n",
       "      <td>03/22 08:51:02 INFO   :..reg_process: register...</td>\n",
       "    </tr>\n",
       "  </tbody>\n",
       "</table>\n",
       "</div>"
      ],
      "text/plain": [
       "  03/22 08:51:01 INFO   :.main: *************** RSVP Agent started ***************\n",
       "0  03/22 08:51:01 INFO   :...locate_configFile: S...                              \n",
       "1  03/22 08:51:01 INFO   :.main: Using log level 511                              \n",
       "2  03/22 08:51:01 INFO   :..settcpimage: Get TCP ...                              \n",
       "3  03/22 08:51:01 INFO   :..settcpimage: Associat...                              \n",
       "4  03/22 08:51:02 INFO   :..reg_process: register...                              "
      ]
     },
     "execution_count": 25,
     "metadata": {},
     "output_type": "execute_result"
    }
   ],
   "source": [
    "df.head()"
   ]
  },
  {
   "cell_type": "code",
   "execution_count": null,
   "id": "676b19cc-7c93-4fb3-8f47-4c227b220edd",
   "metadata": {},
   "outputs": [],
   "source": []
  }
 ],
 "metadata": {
  "kernelspec": {
   "display_name": "venv",
   "language": "python",
   "name": "venv"
  },
  "language_info": {
   "codemirror_mode": {
    "name": "ipython",
    "version": 3
   },
   "file_extension": ".py",
   "mimetype": "text/x-python",
   "name": "python",
   "nbconvert_exporter": "python",
   "pygments_lexer": "ipython3",
   "version": "3.11.2"
  }
 },
 "nbformat": 4,
 "nbformat_minor": 5
}
